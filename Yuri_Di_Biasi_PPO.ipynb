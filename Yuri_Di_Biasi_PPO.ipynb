{
 "cells": [
  {
   "attachments": {},
   "cell_type": "markdown",
   "metadata": {},
   "source": [
    "# Proximal Policy Optimization in a Custom Pygame Shooting Game"
   ]
  },
  {
   "cell_type": "markdown",
   "metadata": {},
   "source": [
    "#### Yuri Di Biasi 0001043300"
   ]
  },
  {
   "attachments": {},
   "cell_type": "markdown",
   "metadata": {},
   "source": [
    "## Imports"
   ]
  },
  {
   "cell_type": "code",
   "execution_count": 1,
   "metadata": {},
   "outputs": [],
   "source": [
    "import gym\n",
    "import numpy as np\n",
    "import gym_game\n",
    "import matplotlib.pyplot as plt\n",
    "\n",
    "import tensorflow as tf\n",
    "from keras.layers import Input, Conv2D, Flatten, Dense\n",
    "from keras.optimizers import Adam\n",
    "from keras import Model\n",
    "from keras import backend as K\n",
    "from scipy.stats import entropy"
   ]
  },
  {
   "attachments": {},
   "cell_type": "markdown",
   "metadata": {},
   "source": [
    "## Environment"
   ]
  },
  {
   "cell_type": "code",
   "execution_count": 2,
   "metadata": {},
   "outputs": [],
   "source": [
    "ENVIRONMENT = \"Pygame-v0\"\n",
    "env         = gym.make(ENVIRONMENT)"
   ]
  },
  {
   "cell_type": "code",
   "execution_count": 3,
   "metadata": {},
   "outputs": [
    {
     "name": "stdout",
     "output_type": "stream",
     "text": [
      "Box(0, 255, (300, 300, 3), uint8)\n"
     ]
    }
   ],
   "source": [
    "print(env.observation_space)"
   ]
  },
  {
   "cell_type": "code",
   "execution_count": 4,
   "metadata": {},
   "outputs": [
    {
     "name": "stdout",
     "output_type": "stream",
     "text": [
      "Discrete(12)\n"
     ]
    }
   ],
   "source": [
    "print(env.action_space)"
   ]
  },
  {
   "attachments": {},
   "cell_type": "markdown",
   "metadata": {},
   "source": [
    "Let's have a look at the observation"
   ]
  },
  {
   "cell_type": "code",
   "execution_count": 5,
   "metadata": {},
   "outputs": [
    {
     "data": {
      "text/plain": [
       "<matplotlib.image.AxesImage at 0x13964141210>"
      ]
     },
     "execution_count": 5,
     "metadata": {},
     "output_type": "execute_result"
    },
    {
     "data": {
      "image/png": "[encoded data removed]",
      "text/plain": [
       "<Figure size 640x480 with 1 Axes>"
      ]
     },
     "metadata": {},
     "output_type": "display_data"
    }
   ],
   "source": [
    "obs = env.reset()\n",
    "plt.imshow(obs)"
   ]
  },
  {
   "attachments": {},
   "cell_type": "markdown",
   "metadata": {},
   "source": [
    "As stated in the paper, a series of preprocessing operations will be implemented to facilitate the task. To this end, we will utilize gym wrappers, which can be accessed via the following link: https://www.gymlibrary.dev/api/wrappers/\n",
    "\n",
    "The preprocessing operations encompass the following steps:\n",
    "\n",
    "-   Initial cropping of extraneous vertical screen elements.\n",
    "-   Normalization of values by dividing them by 255.\n",
    "-   Resizing the observation to a dimension of 84x84 pixels.\n",
    "-   Stacking four consecutive frames to enable movement detection by the agent.\n",
    "-   Additionally, reward normalization will be employed to enhance the stability of the learning process."
   ]
  },
  {
   "cell_type": "code",
   "execution_count": 6,
   "metadata": {},
   "outputs": [],
   "source": [
    "ENVIRONMENT             = \"Pygame-v0\"\n",
    "VERTICAL_TOP_CROP       = 190\n",
    "VERTICAL_BOTTOM_CROP    = -15\n",
    "FRAME_STACK             = 4\n",
    "RESIZED_WIDTH           = 84\n",
    "RESIZED_HEIGHT          = 84"
   ]
  },
  {
   "cell_type": "code",
   "execution_count": 7,
   "metadata": {},
   "outputs": [],
   "source": [
    "class CropObservation(gym.ObservationWrapper):\n",
    "  \n",
    "    def __init__(self, env):\n",
    "        super().__init__(env)\n",
    "    \n",
    "    def observation(self, obs):\n",
    "        return obs[VERTICAL_TOP_CROP:VERTICAL_BOTTOM_CROP,:]"
   ]
  },
  {
   "cell_type": "code",
   "execution_count": 8,
   "metadata": {},
   "outputs": [],
   "source": [
    "class NormalizeObservation(gym.ObservationWrapper):\n",
    "\n",
    "    def __init__(self, env):\n",
    "        super().__init__(env)\n",
    "    \n",
    "    def observation(self, obs):\n",
    "        return np.divide(obs, 255.)"
   ]
  },
  {
   "cell_type": "code",
   "execution_count": 9,
   "metadata": {},
   "outputs": [],
   "source": [
    "def create_environment():\n",
    "  \n",
    "  env = gym.make(ENVIRONMENT)\n",
    "  env = gym.wrappers.NormalizeReward(env, gamma=0.99, epsilon=1e-8)\n",
    "  env = CropObservation(env)\n",
    "  env = NormalizeObservation(env)\n",
    "  env = gym.wrappers.ResizeObservation(env, (RESIZED_WIDTH, RESIZED_HEIGHT))\n",
    "  env = gym.wrappers.FrameStack(env, FRAME_STACK)\n",
    "  \n",
    "  return env"
   ]
  },
  {
   "attachments": {},
   "cell_type": "markdown",
   "metadata": {},
   "source": [
    "## Preprocessing results"
   ]
  },
  {
   "cell_type": "code",
   "execution_count": 10,
   "metadata": {},
   "outputs": [],
   "source": [
    "env = create_environment()\n",
    "obs = env.reset()"
   ]
  },
  {
   "attachments": {},
   "cell_type": "markdown",
   "metadata": {},
   "source": [
    "Let's have a look at the new observation space"
   ]
  },
  {
   "cell_type": "code",
   "execution_count": 11,
   "metadata": {},
   "outputs": [
    {
     "data": {
      "text/plain": [
       "(4, 84, 84, 3)"
      ]
     },
     "execution_count": 11,
     "metadata": {},
     "output_type": "execute_result"
    }
   ],
   "source": [
    "env.observation_space.shape"
   ]
  },
  {
   "attachments": {},
   "cell_type": "markdown",
   "metadata": {},
   "source": [
    "I have created a function specifically designed to display the new observation, which consists of four stacked frames."
   ]
  },
  {
   "cell_type": "code",
   "execution_count": 12,
   "metadata": {},
   "outputs": [],
   "source": [
    "def showObservation(obs):\n",
    "    fig = plt.figure(figsize=(12, 8))\n",
    "    for i in range(FRAME_STACK):\n",
    "        fig.add_subplot(1, FRAME_STACK, i+1)\n",
    "        plt.imshow(obs[i])\n",
    "    plt.show()"
   ]
  },
  {
   "cell_type": "code",
   "execution_count": 13,
   "metadata": {},
   "outputs": [
    {
     "data": {
      "image/png": "[encoded data removed]",
      "text/plain": [
       "<Figure size 1200x800 with 4 Axes>"
      ]
     },
     "metadata": {},
     "output_type": "display_data"
    }
   ],
   "source": [
    "showObservation(obs)"
   ]
  },
  {
   "attachments": {},
   "cell_type": "markdown",
   "metadata": {},
   "source": [
    "As observed, the initial observation is formed by stacking the initial frame four times. Subsequently, when the agent performs an action, the resulting new state will be placed in the fourth position, as demonstrated in the following example:"
   ]
  },
  {
   "cell_type": "code",
   "execution_count": 14,
   "metadata": {},
   "outputs": [],
   "source": [
    "obs, _ ,_ ,_ = env.step([4,0]) # action 4 means shooting, 0 none"
   ]
  },
  {
   "cell_type": "code",
   "execution_count": 15,
   "metadata": {},
   "outputs": [
    {
     "data": {
      "image/png": "[encoded data removed]",
      "text/plain": [
       "<Figure size 1200x800 with 4 Axes>"
      ]
     },
     "metadata": {},
     "output_type": "display_data"
    }
   ],
   "source": [
    "showObservation(obs)"
   ]
  },
  {
   "attachments": {},
   "cell_type": "markdown",
   "metadata": {},
   "source": [
    "## Neural Network Model"
   ]
  },
  {
   "attachments": {},
   "cell_type": "markdown",
   "metadata": {},
   "source": [
    "The chosen network architecture for our implementation is an Actor-Critic network, which closely follows the structure outlined in the paper \"Playing Atari with Deep Reinforcement Learning\"."
   ]
  },
  {
   "cell_type": "code",
   "execution_count": 16,
   "metadata": {},
   "outputs": [],
   "source": [
    "input_shape = env.observation_space.shape\n",
    "n_action    = env.action_space.n"
   ]
  },
  {
   "cell_type": "code",
   "execution_count": 17,
   "metadata": {},
   "outputs": [],
   "source": [
    "def get_network():\n",
    "    \n",
    "  # Input layer\n",
    "  inputs  = Input(shape=input_shape)\n",
    "\n",
    "  # Convolutions on the frames on the screen\n",
    "  layer1  = Conv2D(16, 8, strides = 4, activation = \"relu\")(inputs)\n",
    "  layer2  = Conv2D(32, 4, strides = 2, activation = \"relu\")(layer1)\n",
    "\n",
    "  # Flatten and add densely connected layer\n",
    "  layer3  = Flatten()(layer2)\n",
    "  layer4  = Dense(256, activation = \"relu\")(layer3)\n",
    "\n",
    "  # Actor and critic layers\n",
    "  actor   = Dense(n_action, activation = \"softmax\")(layer4)\n",
    "  critic  = Dense(1, activation=\"linear\")(layer4)\n",
    "\n",
    "  return Model(inputs = inputs, outputs = [actor, critic])"
   ]
  },
  {
   "cell_type": "code",
   "execution_count": 18,
   "metadata": {},
   "outputs": [
    {
     "name": "stdout",
     "output_type": "stream",
     "text": [
      "Model: \"model\"\n",
      "__________________________________________________________________________________________________\n",
      " Layer (type)                   Output Shape         Param #     Connected to                     \n",
      "==================================================================================================\n",
      " input_1 (InputLayer)           [(None, 4, 84, 84,   0           []                               \n",
      "                                3)]                                                               \n",
      "                                                                                                  \n",
      " conv2d (Conv2D)                (None, 4, 20, 20, 1  3088        ['input_1[0][0]']                \n",
      "                                6)                                                                \n",
      "                                                                                                  \n",
      " conv2d_1 (Conv2D)              (None, 4, 9, 9, 32)  8224        ['conv2d[0][0]']                 \n",
      "                                                                                                  \n",
      " flatten (Flatten)              (None, 10368)        0           ['conv2d_1[0][0]']               \n",
      "                                                                                                  \n",
      " dense (Dense)                  (None, 256)          2654464     ['flatten[0][0]']                \n",
      "                                                                                                  \n",
      " dense_1 (Dense)                (None, 12)           3084        ['dense[0][0]']                  \n",
      "                                                                                                  \n",
      " dense_2 (Dense)                (None, 1)            257         ['dense[0][0]']                  \n",
      "                                                                                                  \n",
      "==================================================================================================\n",
      "Total params: 2,669,117\n",
      "Trainable params: 2,669,117\n",
      "Non-trainable params: 0\n",
      "__________________________________________________________________________________________________\n"
     ]
    }
   ],
   "source": [
    "model = get_network()\n",
    "model.summary()"
   ]
  },
  {
   "attachments": {},
   "cell_type": "markdown",
   "metadata": {},
   "source": [
    "## Proximal Policy Optimization"
   ]
  },
  {
   "attachments": {},
   "cell_type": "markdown",
   "metadata": {},
   "source": [
    "### Hyperparameters"
   ]
  },
  {
   "attachments": {},
   "cell_type": "markdown",
   "metadata": {},
   "source": [
    "I have adopted the hyperparameters recommended in the paper \"Proximal Policy Optimization Algorithms\" with a few modifications. Unlike the paper, I have chosen not to multiply the learning rate and clipping parameter by an alpha value, which consisted in gradually reducing it from 1 to 0 over the course of the learning process. Additionally, I have decided to use a higher learning rate based on extensive experimentation and time constraints, which has yielded satisfactory results. According to the paper's recommendations, it is advised to allow the agent to accumulate experiences for a fixed number of frames before applying a network update. It is suggested that this number should not surpass the duration of an episode. In this case, a horizon value of 64 frames was selected, despite the possibility of some episodes being shorter based on the agent's chosen actions. Notably, this parameter choice has yielded satisfactory results."
   ]
  },
  {
   "cell_type": "code",
   "execution_count": 19,
   "metadata": {},
   "outputs": [],
   "source": [
    "T                   = 64\n",
    "ppo_epochs          = 3\n",
    "learning_rate       = 1e-3\n",
    "mini_batch_size     = 16\n",
    "gamma               = 0.99\n",
    "tau                 = 0.95\n",
    "c1_coeff            = 1\n",
    "c2_coeff            = 0.01\n",
    "clip_param          = 0.1\n",
    "\n",
    "optimizer           = Adam(learning_rate = learning_rate)"
   ]
  },
  {
   "attachments": {},
   "cell_type": "markdown",
   "metadata": {},
   "source": [
    "The compute_gae function computes the Generalized Advantage Estimation (GAE) returns in the Proximal Policy Optimization algorithm. The function begins by appending the next_value to the list of values to ensure consistency in the number of elements.\n",
    "\n",
    "Next, the function iterates in reverse order over the range of the rewards list. For each step, it computes the temporal difference (delta) by subtracting the estimated value at the current step from the sum of the current reward, discounted future value, and a bootstrap term that accounts for incomplete episodes. The GAE is then updated by adding the delta, plus additional discounting factors (gamma and tau) that weigh the importance of immediate and future rewards.\n",
    "\n",
    "Finally, the computed GAE plus the estimated value at the current step is inserted at the beginning of the returns list. Once the iteration is complete, the function returns the list of computed GAE returns."
   ]
  },
  {
   "cell_type": "code",
   "execution_count": 20,
   "metadata": {},
   "outputs": [],
   "source": [
    "def compute_gae(next_value, rewards, dones, values):\n",
    "    values  = values + [next_value]\n",
    "    gae     = 0\n",
    "    returns = []\n",
    "    for step in reversed(range(len(rewards))):\n",
    "        delta   = rewards[step] + gamma * values[step + 1] * (1 - dones[step]) - values[step]\n",
    "        gae     = delta + gamma * tau * (1 - dones[step]) * gae\n",
    "        returns.insert(0, gae + values[step])\n",
    "    return returns"
   ]
  },
  {
   "attachments": {},
   "cell_type": "markdown",
   "metadata": {},
   "source": [
    "The ppo_iter function generates minibatches from input batches for the Proximal Policy Optimization (PPO) algorithm.\n",
    "\n",
    "A random permutation of indices is generated using the batch size. This permutation is applied to shuffle the states, actions, action probabilities, returns, and advantages arrays accordingly."
   ]
  },
  {
   "cell_type": "code",
   "execution_count": 21,
   "metadata": {},
   "outputs": [],
   "source": [
    "def ppo_iter(states, actions, actions_probabilities, returns, advantages):\n",
    "    states                  = np.array(states)\n",
    "    actions                 = np.array(actions)\n",
    "    actions_probabilities   = np.array(actions_probabilities)\n",
    "    returns                 = np.array(returns)\n",
    "    advantages              = np.array(advantages)\n",
    "\n",
    "    batch_size              = len(states)\n",
    "    p                       = np.random.permutation(batch_size)\n",
    "\n",
    "    states                  = states[p]\n",
    "    actions                 = actions[p]\n",
    "    actions_probabilities   = actions_probabilities[p]\n",
    "    returns                 = returns[p]\n",
    "    advantages              = advantages[p]\n",
    "    \n",
    "    for batch in range(batch_size // mini_batch_size):\n",
    "        start   = batch*mini_batch_size\n",
    "        end     = (batch + 1) * mini_batch_size\n",
    "        indices = np.arange(start, end)\n",
    "        yield states[indices], actions[indices], actions_probabilities[indices], returns[indices], advantages[indices]"
   ]
  },
  {
   "attachments": {},
   "cell_type": "markdown",
   "metadata": {},
   "source": [
    "The ppo_update function performs an update step in the Proximal Policy Optimization (PPO) algorithm.\n",
    "\n",
    "Within each PPO epoch, the function utilizes the ppo_iter generator to obtain mini-batches that are used to compute the loss and update the model parameters.\n",
    "\n",
    "For each mini-batch, a gradient tape is initiated to record the operations performed. The current_actor and current_critic are obtained by passing the state_batch to the model. The old_probs and new_probs represent the action probabilities corresponding to the selected actions in the respective batches.\n",
    "\n",
    "The ratio is calculated as the exponential of the logarithmic difference between new_probs and old_probs. The surr1 and surr2 terms are computed based on the ratio and advantages_batch, with the latter being clipped within the specified clip_param range.\n",
    "\n",
    "The actor_loss is computed as the negative mean of the minimum value between surr1 and surr2. The critic_loss is the mean squared difference between returns_batch and current_critic. The entropy_values represent the entropy of the current_actor probabilities, and entropy_bonus is the mean of these entropy values.\n",
    "\n",
    "The total_loss is calculated by combining the actor_loss, critic_loss (multiplied by the c1_coeff), and entropy_bonus (multiplied by the c2_coeff)."
   ]
  },
  {
   "cell_type": "code",
   "execution_count": 22,
   "metadata": {},
   "outputs": [],
   "source": [
    "def ppo_update(states, actions, actions_probabilities, returns, advantages):\n",
    "    for _ in range(ppo_epochs):\n",
    "        for state_batch, actions_batch, actions_probabilities_batch,\\\n",
    "            returns_batch, advantages_batch in\\\n",
    "            ppo_iter(states, actions, actions_probabilities,\\\n",
    "                     returns, advantages):\n",
    "            \n",
    "            with tf.GradientTape() as tape:\n",
    "                current_actor, current_critic = model(state_batch)\n",
    "\n",
    "                old_probs = [prob[actions_batch[i]] for i, prob in enumerate(actions_probabilities_batch)]\n",
    "                new_probs = [prob[actions_batch[i]] for i, prob in enumerate(current_actor)]\n",
    "                \n",
    "                ratio = K.exp(K.log(new_probs) - K.log(old_probs))\n",
    "                surr1 = ratio * advantages_batch\n",
    "                surr2 = K.clip(ratio, 1.0 - clip_param, 1.0 + clip_param) * advantages_batch\n",
    "\n",
    "                actor_loss = -K.mean(K.min([surr1, surr2],axis=0))\n",
    "                critic_loss = K.mean(K.square(returns_batch - current_critic))\n",
    "                \n",
    "                entropy_values = [entropy(probabilities) for probabilities in current_actor]\n",
    "                entropy_bonus = K.mean(tf.convert_to_tensor(entropy_values, dtype=np.float32))\n",
    "                \n",
    "                total_loss = c1_coeff * critic_loss + actor_loss - c2_coeff * entropy_bonus\n",
    "        \n",
    "            gradients = tape.gradient(total_loss, model.trainable_variables)\n",
    "            optimizer.apply_gradients(zip(gradients, model.trainable_variables))"
   ]
  },
  {
   "attachments": {},
   "cell_type": "markdown",
   "metadata": {},
   "source": [
    "In this section, we initialize several variables that serve the purpose of evaluating results and tracking the training process. These variables are essential for monitoring and assessing the performance and progress of the training algorithm."
   ]
  },
  {
   "cell_type": "code",
   "execution_count": 23,
   "metadata": {},
   "outputs": [],
   "source": [
    "frame_idx               = 0\n",
    "max_frames              = 2e6\n",
    "agent_victories         = []\n",
    "opponens_victories      = []\n",
    "ties                    = []\n",
    "consecutive_wins        = 0\n",
    "early_stop              = False\n",
    "n_games_test_training   = 5\n",
    "positive_tests          = 30\n",
    "frequency_test          = 2000\n",
    "scores                  = {\n",
    "    \"Player 1\"      : 0,\n",
    "    \"Player 2\"      : 0,\n",
    "    \"Tie\"           : 0,\n",
    "    \"Limit exceeded\"  : 0\n",
    "}"
   ]
  },
  {
   "attachments": {},
   "cell_type": "markdown",
   "metadata": {},
   "source": [
    "The test_env function serves the purpose of testing the environment at regular intervals throughout the learning process. This function is executed after a fixed number of frames and provides valuable insights into the progress of the training. By evaluating the environment during these test intervals, we can assess the effectiveness of the learning algorithm and gain valuable feedback on its performance."
   ]
  },
  {
   "cell_type": "code",
   "execution_count": 24,
   "metadata": {},
   "outputs": [],
   "source": [
    "def test_env(consecutive_wins, n_games_test = n_games_test_training, vis=True):\n",
    "    for _ in range(n_games_test):\n",
    "        state = env.reset()\n",
    "        if vis: env.render()\n",
    "        done = False\n",
    "        while not done:\n",
    "            state = tf.expand_dims(state, axis=0)\n",
    "            dist, _ = model(state)\n",
    "            next_state, reward, done, info = env.step([np.random.choice(n_action, p=np.squeeze(dist)), 4])\n",
    "            state = next_state\n",
    "            if vis: env.render()\n",
    "        if info[\"victory\"] != None:\n",
    "            scores[info[\"victory\"]] += 1\n",
    "        else:\n",
    "            scores[\"Limit exceeded\"] += 1\n",
    "    env.close()\n",
    "    agent_victories.append(scores[\"Player 1\"])\n",
    "    opponens_victories.append(scores[\"Player 2\"])\n",
    "    ties.append(scores[\"Tie\"])\n",
    "    if len(agent_victories) > 2:\n",
    "        if agent_victories[-1] == agent_victories[-2] + n_games_test:\n",
    "            consecutive_wins += 1\n",
    "        else:\n",
    "            consecutive_wins = 0\n",
    "    return consecutive_wins"
   ]
  },
  {
   "cell_type": "markdown",
   "metadata": {},
   "source": [
    "Here the training process begins by allowing the agent to interact with the environment for a predetermined number of frames, following the current policy. This interaction gathers data, which is then used to calculate Generalized Advantage Estimations (GAE). Subsequently, the network is updated using these estimations."
   ]
  },
  {
   "cell_type": "code",
   "execution_count": null,
   "metadata": {},
   "outputs": [],
   "source": [
    "state = env.reset()\n",
    "\n",
    "while frame_idx < max_frames and not early_stop:\n",
    "\n",
    "    states                  = []\n",
    "    actions                 = []\n",
    "    rewards                 = []\n",
    "    dones                   = []\n",
    "    actions_probabilities   = []\n",
    "    critic_values           = []\n",
    "\n",
    "    for step in range(T):\n",
    "\n",
    "        t_state = tf.expand_dims(state, axis=0)\n",
    "        actor, critic = model(t_state)\n",
    "\n",
    "        action_probability = np.squeeze(actor)\n",
    "        \n",
    "        action = np.random.choice(n_action, p = action_probability)\n",
    "        next_state, reward, done, info = env.step([action, 4])\n",
    "\n",
    "        states.append(state)\n",
    "        actions.append(action)\n",
    "        actions_probabilities.append(action_probability)\n",
    "        critic_values.append(critic.numpy()[0])\n",
    "        rewards.append(reward[0])\n",
    "        dones.append(done)\n",
    "\n",
    "        if done:\n",
    "            state = env.reset()\n",
    "        else:\n",
    "            state = next_state\n",
    "        \n",
    "        if frame_idx % frequency_test == 0:\n",
    "            consecutive_wins = test_env(consecutive_wins = consecutive_wins, n_games_test = n_games_test_training)\n",
    "            print(scores)\n",
    "            if consecutive_wins >= positive_tests:\n",
    "                early_stop = True\n",
    "                model.save_weights(f\"player1_PPO_frame{frame_idx}\")\n",
    "        \n",
    "        frame_idx += 1\n",
    "    \n",
    "    next_state = tf.expand_dims(next_state, axis=0)\n",
    "    _, next_value = model(next_state)\n",
    "\n",
    "    returns = compute_gae(next_value.numpy()[0], rewards, dones, critic_values)\n",
    "\n",
    "    advantages = np.array(returns) - np.array(critic_values)\n",
    "    \n",
    "    ppo_update(states, actions, actions_probabilities, returns, advantages)\n"
   ]
  },
  {
   "cell_type": "markdown",
   "metadata": {},
   "source": [
    "## Conclusion"
   ]
  },
  {
   "cell_type": "markdown",
   "metadata": {},
   "source": [
    "Let's see how our agent behaves at the end of the training process."
   ]
  },
  {
   "cell_type": "code",
   "execution_count": 25,
   "metadata": {},
   "outputs": [],
   "source": [
    "model.load_weights(\"player1_PPO_frame136000.h5\")"
   ]
  },
  {
   "cell_type": "code",
   "execution_count": 26,
   "metadata": {},
   "outputs": [],
   "source": [
    "def play(episodes, show = False):\n",
    "    env     = create_environment()\n",
    "    wins    = 0\n",
    "    defeats = 0\n",
    "    ties    = 0\n",
    "    for _ in range(episodes):\n",
    "        state   = env.reset()\n",
    "        done    = False\n",
    "        while not done:\n",
    "            if show: env.render()\n",
    "            state = tf.expand_dims(state, axis=0)\n",
    "            dist, _ = model(state)\n",
    "            next_state, reward, done, info = env.step([np.random.choice(n_action, p=np.squeeze(dist)), 4])\n",
    "            state = next_state\n",
    "        if info[\"victory\"] == \"Player 1\": wins += 1\n",
    "        elif info[\"victory\"] == \"Player 2\": defeats += 1\n",
    "        elif info[\"victory\"] == \"Tie\": ties += 1\n",
    "    env.close()\n",
    "    print(f\"Games played: {episodes} - Results: {wins} victories, {defeats} defeats and {ties} ties.\")"
   ]
  },
  {
   "cell_type": "code",
   "execution_count": 27,
   "metadata": {},
   "outputs": [
    {
     "name": "stdout",
     "output_type": "stream",
     "text": [
      "Games played: 10 - Results: 10 victories, 0 defeats and 0 ties.\n"
     ]
    }
   ],
   "source": [
    "play(10, True)"
   ]
  },
  {
   "cell_type": "markdown",
   "metadata": {},
   "source": [
    "The results obtained from the agent's performance are encouraging. Although the agent may not have learned the optimal policy as it still fails to avoid all bullets, it demonstrates the ability to consistently win all games it plays. The observed outcome can be attributed to the reward design, which might not effectively incentivize the agent to avoid all bullets. By adapting the reward structure and incorporating variable frame skipping based on the players' positions, such as skipping more frames when they are far apart and fewer frames when they are close, it becomes plausible for the agent to acquire the capacity to play against itself and potentially even challenge human opponents. This adaptive approach holds the potential to enhance the agent's overall capabilities, enabling it to refine decision-making processes and optimize gameplay strategies. Through exposure to diverse scenarios and opponents, the agent can continuously improve its skills, leading to further advancements in its gameplay abilities."
   ]
  },
  {
   "cell_type": "markdown",
   "metadata": {},
   "source": [
    "## Resources and references"
   ]
  },
  {
   "cell_type": "markdown",
   "metadata": {},
   "source": [
    "[PyGame Shooter Game Beginner Tutorial in Python](https://www.youtube.com/watch?v=DHgj5jhMJKg&list=PLjcN1EyupaQm20hlUE11y9y8EY2aXLpnv)"
   ]
  },
  {
   "cell_type": "markdown",
   "metadata": {},
   "source": [
    "\n",
    "[Creating a Custom OpenAI Gym Environment](https://www.youtube.com/watch?v=ZxXKISVkH6Y)"
   ]
  },
  {
   "cell_type": "markdown",
   "metadata": {},
   "source": [
    "[An introduction to Policy Gradient methods](https://www.youtube.com/watch?v=5P7I-xPq8u8)"
   ]
  },
  {
   "cell_type": "markdown",
   "metadata": {},
   "source": [
    "[Proximal Policy Optimization | PPO Tutorial](https://www.youtube.com/watch?v=9DO63MSGeNA&t=301s)"
   ]
  },
  {
   "cell_type": "markdown",
   "metadata": {},
   "source": [
    "[OpenAI Gym](https://www.gymlibrary.dev/), [Keras](https://keras.io/getting_started/) Documentation"
   ]
  }
 ],
 "metadata": {
  "kernelspec": {
   "display_name": "env",
   "language": "python",
   "name": "python3"
  },
  "language_info": {
   "codemirror_mode": {
    "name": "ipython",
    "version": 3
   },
   "file_extension": ".py",
   "mimetype": "text/x-python",
   "name": "python",
   "nbconvert_exporter": "python",
   "pygments_lexer": "ipython3",
   "version": "3.10.0"
  },
  "orig_nbformat": 4
 },
 "nbformat": 4,
 "nbformat_minor": 2
}
